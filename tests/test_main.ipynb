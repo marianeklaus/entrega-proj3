{
 "cells": [
  {
   "cell_type": "code",
   "execution_count": 1,
   "id": "815e6f6c-5dad-4c47-8349-361d7281d7da",
   "metadata": {
    "tags": []
   },
   "outputs": [],
   "source": [
    "import numpy as np\n",
    "import matplotlib.pyplot as plt\n",
    "\n",
    "def design(tipo_funcao, coeficientes):\n",
    "    \"\"\"\n",
    "    Determina e desenha o gráfico da função escolhida.\n",
    "\n",
    "    Parâmetros:\n",
    "    - tipo_funcao: string representando o tipo da função.\n",
    "    - coeficientes: lista de coeficientes.\n",
    "\n",
    "    Retorna uma lista de pontos (x, y) representando a função.\n",
    "    \"\"\"\n",
    "    pontos = []\n",
    "\n",
    "    if tipo_funcao == \"1\":\n",
    "        # Função Afim: y = ax + b\n",
    "        a, b = coeficientes\n",
    "        x = np.linspace(-10, 10, 100)\n",
    "        y = a * x + b\n",
    "        pontos = list(zip(x, y))\n",
    "    elif tipo_funcao == \"2\":\n",
    "        # Função Quadrática: y = ax^2 + bx + c\n",
    "        a, b, c = coeficientes\n",
    "        x = np.linspace(-10, 10, 100)\n",
    "        y = a * x**2 + b * x + c\n",
    "        pontos = list(zip(x, y))\n",
    "    elif tipo_funcao == \"3\":\n",
    "        # Função Logarítmica: y = ln(x)\n",
    "        x = np.linspace(0.1, 10, 100)  # Considerando x > 0 para logaritmo\n",
    "        y = np.log(x)\n",
    "        pontos = list(zip(x, y))\n",
    "    elif tipo_funcao == \"4\":\n",
    "        # Função Exponencial: y = e^x\n",
    "        x = np.linspace(-10, 10, 100)\n",
    "        y = np.exp(x)\n",
    "        pontos = list(zip(x, y))\n",
    "\n",
    "    return pontos"
   ]
  },
  {
   "cell_type": "code",
   "execution_count": 2,
   "id": "1a6f8034-6f50-44d9-81d0-21ffaaf9f624",
   "metadata": {
    "tags": []
   },
   "outputs": [],
   "source": [
    "import matplotlib.pyplot as plt\n",
    "\n",
    "def impressora(pontos, modulo_plotagem=plt):\n",
    "    \"\"\"\n",
    "    Imprime na tela o gráfico usando os pontos da função escolhida.\n",
    "\n",
    "    Parâmetros:\n",
    "    - pontos: lista de tuplas (x, y) representando pontos do gráfico.\n",
    "    - modulo_plotagem: módulo de plotagem (por padrão, Matplotlib).\n",
    "\n",
    "    Esta função utiliza o método plot do módulo de plotagem para exibir o gráfico.\n",
    "    \"\"\"\n",
    "    x, y = zip(*pontos)\n",
    "    modulo_plotagem.plot(x, y)\n",
    "    modulo_plotagem.title(\"Gráfico da Função\")\n",
    "    modulo_plotagem.xlabel(\"x\")\n",
    "    modulo_plotagem.ylabel(\"y\")\n",
    "    modulo_plotagem.show()"
   ]
  },
  {
   "cell_type": "code",
   "execution_count": 3,
   "id": "f6a654a8-0cbd-44d0-a55c-b00dcdd43b06",
   "metadata": {
    "tags": []
   },
   "outputs": [],
   "source": [
    "def leitor_funcao() -> str:\n",
    "    \"\"\"\n",
    "    Apresenta um menu contendo as funções afim, quadrática, logarítmica e exponencial.\n",
    "\n",
    "    Retorna a escolha do usuário como uma string.\n",
    "    \"\"\"\n",
    "    # Implementação para apresentar o menu de funções\n",
    "    print(\"Escolha a função a ser plotada:\")\n",
    "    print(\"1. Função afim\")\n",
    "    print(\"2. Função quadrática\")\n",
    "    print(\"3. Função logarítmica\")\n",
    "    print(\"4. Função exponencial\")\n",
    "    \n",
    "    escolha = input(\"Digite o número correspondente à função: \")\n",
    "    return escolha"
   ]
  },
  {
   "cell_type": "code",
   "execution_count": 4,
   "id": "3e230f3c-6e4d-46c9-be93-f15293c074d6",
   "metadata": {
    "tags": []
   },
   "outputs": [],
   "source": [
    "def leitor_coeficiente(nome_funcao) -> list:\n",
    "    \"\"\"\n",
    "    Lê os coeficientes para função afim ou quadrática, caso escolhida pelo usuário.\n",
    "\n",
    "    Parâmetros:\n",
    "    - nome_funcao: string representando o tipo da função escolhida.\n",
    "\n",
    "    Retorna uma lista de coeficientes.\n",
    "    \"\"\"\n",
    "    coeficientes = []\n",
    "\n",
    "    if nome_funcao == \"1\":\n",
    "        coeficientes.append(float(input(\"Digite o coeficiente a: \")))\n",
    "        coeficientes.append(float(input(\"Digite o coeficiente b: \")))\n",
    "    elif nome_funcao == \"2\":\n",
    "        coeficientes.append(float(input(\"Digite o coeficiente a: \")))\n",
    "        coeficientes.append(float(input(\"Digite o coeficiente b: \")))\n",
    "        coeficientes.append(float(input(\"Digite o coeficiente c: \")))\n",
    "\n",
    "    return coeficientes"
   ]
  },
  {
   "cell_type": "code",
   "execution_count": 9,
   "id": "1c74231b-9262-4356-814e-2281fce13284",
   "metadata": {
    "tags": []
   },
   "outputs": [
    {
     "name": "stdout",
     "output_type": "stream",
     "text": [
      "Escolha a função a ser plotada:\n",
      "1. Função afim\n",
      "2. Função quadrática\n",
      "3. Função logarítmica\n",
      "4. Função exponencial\n"
     ]
    },
    {
     "name": "stdin",
     "output_type": "stream",
     "text": [
      "Digite o número correspondente à função:  1\n"
     ]
    },
    {
     "ename": "TypeError",
     "evalue": "leitor_coeficiente() missing 1 required positional argument: 'nome_funcao'",
     "output_type": "error",
     "traceback": [
      "\u001b[1;31m---------------------------------------------------------------------------\u001b[0m",
      "\u001b[1;31mTypeError\u001b[0m                                 Traceback (most recent call last)",
      "Cell \u001b[1;32mIn[9], line 4\u001b[0m\n\u001b[0;32m      1\u001b[0m funcao \u001b[38;5;241m=\u001b[39m leitor_funcao()\n\u001b[0;32m      3\u001b[0m \u001b[38;5;28;01mif\u001b[39;00m funcao \u001b[38;5;241m==\u001b[39m \u001b[38;5;124m\"\u001b[39m\u001b[38;5;124m1\u001b[39m\u001b[38;5;124m\"\u001b[39m \u001b[38;5;129;01mor\u001b[39;00m funcao \u001b[38;5;241m==\u001b[39m \u001b[38;5;124m\"\u001b[39m\u001b[38;5;124m2\u001b[39m\u001b[38;5;124m\"\u001b[39m:\n\u001b[1;32m----> 4\u001b[0m     coeficientes \u001b[38;5;241m=\u001b[39m leitor_coeficiente()\n\u001b[0;32m      5\u001b[0m \u001b[38;5;28;01melse\u001b[39;00m: \n\u001b[0;32m      6\u001b[0m     coeficientes \u001b[38;5;241m=\u001b[39m []\n",
      "\u001b[1;31mTypeError\u001b[0m: leitor_coeficiente() missing 1 required positional argument: 'nome_funcao'"
     ]
    }
   ],
   "source": [
    "funcao = leitor_funcao()\n",
    "\n",
    "if funcao == \"1\" or funcao == \"2\":\n",
    "    coeficientes = leitor_coeficiente(funcao)\n",
    "else: \n",
    "    coeficientes = []"
   ]
  },
  {
   "cell_type": "code",
   "execution_count": 11,
   "id": "70d73c94-6341-4b13-85b9-33314372ef56",
   "metadata": {
    "tags": []
   },
   "outputs": [
    {
     "name": "stdout",
     "output_type": "stream",
     "text": [
      "Escolha a função a ser plotada:\n",
      "1. Função afim\n",
      "2. Função quadrática\n",
      "3. Função logarítmica\n",
      "4. Função exponencial\n"
     ]
    },
    {
     "name": "stdin",
     "output_type": "stream",
     "text": [
      "Digite o número correspondente à função:  3\n"
     ]
    },
    {
     "data": {
      "image/png": "[encoded data removed]",
      "text/plain": [
       "<Figure size 640x480 with 1 Axes>"
      ]
     },
     "metadata": {},
     "output_type": "display_data"
    }
   ],
   "source": [
    "funcao = leitor_funcao()\n",
    "\n",
    "if funcao == \"1\" or funcao == \"2\":\n",
    "    coeficientes = leitor_coeficiente(funcao)\n",
    "else: \n",
    "    coeficientes = []\n",
    "\n",
    "pontos = design(funcao, coeficientes)\n",
    "\n",
    "impressora(pontos) "
   ]
  }
 ],
 "metadata": {
  "kernelspec": {
   "display_name": "Python 3 (ipykernel)",
   "language": "python",
   "name": "python3"
  },
  "language_info": {
   "codemirror_mode": {
    "name": "ipython",
    "version": 3
   },
   "file_extension": ".py",
   "mimetype": "text/x-python",
   "name": "python",
   "nbconvert_exporter": "python",
   "pygments_lexer": "ipython3",
   "version": "3.11.5"
  }
 },
 "nbformat": 4,
 "nbformat_minor": 5
}
