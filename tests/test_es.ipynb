{
 "cells": [
  {
   "cell_type": "code",
   "execution_count": 1,
   "id": "efa69544-e71f-4319-bcaa-aae2b35759e3",
   "metadata": {
    "tags": []
   },
   "outputs": [],
   "source": [
    "import matplotlib.pyplot as plt\n",
    "import numpy as np\n",
    "\n",
    "def impressora(funcao, modulo_plotagem=plt):\n",
    "    \"\"\"\n",
    "    Imprime na tela o gráfico da função escolhida pelo usuário.\n",
    "\n",
    "    Parâmetros:\n",
    "    - funcao: função matemática a ser plotada.\n",
    "    - modulo_plotagem: módulo de plotagem (por padrão, Matplotlib).\n",
    "\n",
    "    Esta função utiliza o método plot do módulo de plotagem para exibir o gráfico.\n",
    "    \"\"\"\n",
    "    x = np.linspace(-10, 10, 100)\n",
    "    y = funcao(x)\n",
    "\n",
    "    modulo_plotagem.plot(x, y)\n",
    "    modulo_plotagem.title(\"Gráfico da Função\")\n",
    "    modulo_plotagem.xlabel(\"x\")\n",
    "    modulo_plotagem.ylabel(\"y\")\n",
    "    modulo_plotagem.show()"
   ]
  },
  {
   "cell_type": "code",
   "execution_count": 15,
   "id": "b32bf342-7b3c-4212-91ea-1b94cb3231e6",
   "metadata": {
    "tags": []
   },
   "outputs": [],
   "source": [
    "def leitor_funcao() -> str:\n",
    "    \"\"\"\n",
    "    Apresenta um menu contendo as funções afim, quadrática, logarítmica e exponencial.\n",
    "\n",
    "    Retorna a escolha do usuário como uma string.\n",
    "    \"\"\"\n",
    "    # Implementação para apresentar o menu de funções\n",
    "    print(\"Escolha a função a ser plotada:\")\n",
    "    print(\"1. Função afim\")\n",
    "    print(\"2. Função quadrática\")\n",
    "    print(\"3. Função logarítmica\")\n",
    "    print(\"4. Função exponencial\")\n",
    "    \n",
    "    escolha = input(\"Digite o número correspondente à função: \")\n",
    "    return escolha\n"
   ]
  },
  {
   "cell_type": "code",
   "execution_count": 8,
   "id": "da0000d0-5d76-4107-a694-bcc55a29169d",
   "metadata": {
    "tags": []
   },
   "outputs": [
    {
     "data": {
      "text/plain": [
       "[]"
      ]
     },
     "execution_count": 8,
     "metadata": {},
     "output_type": "execute_result"
    }
   ],
   "source": [
    "def leitor_coeficiente(nome_funcao: str) -> list:\n",
    "    \"\"\"\n",
    "    Lê os coeficientes para função afim ou quadrática, caso escolhida pelo usuário.\n",
    "\n",
    "    Parâmetros:\n",
    "    - nome_funcao: string representando o tipo da função escolhida.\n",
    "\n",
    "    Retorna uma lista de coeficientes.\n",
    "    \"\"\"\n",
    "    coeficientes = []\n",
    "\n",
    "    if nome_funcao == \"1\":\n",
    "        coeficientes.append(float(input(\"Digite o coeficiente a: \")))\n",
    "        coeficientes.append(float(input(\"Digite o coeficiente b: \")))\n",
    "    elif nome_funcao == \"2\":\n",
    "        coeficientes.append(float(input(\"Digite o coeficiente a: \")))\n",
    "        coeficientes.append(float(input(\"Digite o coeficiente b: \")))\n",
    "        coeficientes.append(float(input(\"Digite o coeficiente c: \")))\n",
    "\n",
    "    return coeficientes\n"
   ]
  },
  {
   "cell_type": "code",
   "execution_count": 10,
   "id": "411ecb49-f242-45b4-8d7d-a694f7a24458",
   "metadata": {
    "tags": []
   },
   "outputs": [
    {
     "name": "stdout",
     "output_type": "stream",
     "text": [
      "Escolha a função a ser plotada:\n",
      "1. Função afim\n",
      "2. Função quadrática\n",
      "3. Função logarítmica\n",
      "4. Função exponencial\n"
     ]
    },
    {
     "name": "stdin",
     "output_type": "stream",
     "text": [
      "Digite o número correspondente à função:  2\n",
      "Digite o coeficiente a:  2\n",
      "Digite o coeficiente b:  3\n",
      "Digite o coeficiente c:  5\n"
     ]
    },
    {
     "data": {
      "text/plain": [
       "[2.0, 3.0, 5.0]"
      ]
     },
     "execution_count": 10,
     "metadata": {},
     "output_type": "execute_result"
    }
   ],
   "source": [
    "leitor_coeficiente(leitor_funcao())"
   ]
  },
  {
   "cell_type": "code",
   "execution_count": null,
   "id": "9558d3c6-b139-4959-9f61-dbf136801af8",
   "metadata": {},
   "outputs": [],
   "source": []
  }
 ],
 "metadata": {
  "kernelspec": {
   "display_name": "Python 3 (ipykernel)",
   "language": "python",
   "name": "python3"
  },
  "language_info": {
   "codemirror_mode": {
    "name": "ipython",
    "version": 3
   },
   "file_extension": ".py",
   "mimetype": "text/x-python",
   "name": "python",
   "nbconvert_exporter": "python",
   "pygments_lexer": "ipython3",
   "version": "3.11.5"
  }
 },
 "nbformat": 4,
 "nbformat_minor": 5
}
