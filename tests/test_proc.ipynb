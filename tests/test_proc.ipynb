{
 "cells": [
  {
   "cell_type": "markdown",
   "id": "c1e40416-14ba-4fe3-8881-6ae5de056a2c",
   "metadata": {},
   "source": [
    "# 1. Requisito 1a\n",
    "Determinar o gráfico\n",
    "\n",
    "função design(tipo_funcao: str, coeficientes: lista) -> objeto gráfico Esta função recebe o tipo de função a ser desenhada e a lista de coeficientes (se for necessário) e desenha o gráfico da função correspondente."
   ]
  },
  {
   "cell_type": "code",
   "execution_count": 1,
   "id": "ff8a2ddb-2fbc-4c8a-a12a-193242652518",
   "metadata": {
    "tags": []
   },
   "outputs": [],
   "source": [
    "import numpy as np\n",
    "import matplotlib.pyplot as plt\n",
    "\n",
    "def design(tipo_funcao, coeficientes):\n",
    "    \"\"\"\n",
    "    Determina e desenha o gráfico da função escolhida.\n",
    "\n",
    "    Parâmetros:\n",
    "    - tipo_funcao: string representando o tipo da função.\n",
    "    - coeficientes: lista de coeficientes.\n",
    "\n",
    "    Retorna uma lista de pontos (x, y) representando a função.\n",
    "    \"\"\"\n",
    "    pontos = []\n",
    "\n",
    "    if tipo_funcao == \"1\":\n",
    "        # Função Afim: y = ax + b\n",
    "        a, b = coeficientes\n",
    "        x = np.linspace(-10, 10, 100)\n",
    "        y = a * x + b\n",
    "        pontos = list(zip(x, y))\n",
    "    elif tipo_funcao == \"2\":\n",
    "        # Função Quadrática: y = ax^2 + bx + c\n",
    "        a, b, c = coeficientes\n",
    "        x = np.linspace(-10, 10, 100)\n",
    "        y = a * x**2 + b * x + c\n",
    "        pontos = list(zip(x, y))\n",
    "    elif tipo_funcao == \"3\":\n",
    "        # Função Logarítmica: y = ln(x)\n",
    "        x = np.linspace(0.1, 10, 100)  # Considerando x > 0 para logaritmo\n",
    "        y = np.log(x)\n",
    "        pontos = list(zip(x, y))\n",
    "    elif tipo_funcao == \"4\":\n",
    "        # Função Exponencial: y = e^x\n",
    "        x = np.linspace(-10, 10, 100)\n",
    "        y = np.exp(x)\n",
    "        pontos = list(zip(x, y))"
   ]
  }
 ],
 "metadata": {
  "kernelspec": {
   "display_name": "Python 3 (ipykernel)",
   "language": "python",
   "name": "python3"
  },
  "language_info": {
   "codemirror_mode": {
    "name": "ipython",
    "version": 3
   },
   "file_extension": ".py",
   "mimetype": "text/x-python",
   "name": "python",
   "nbconvert_exporter": "python",
   "pygments_lexer": "ipython3",
   "version": "3.11.5"
  }
 },
 "nbformat": 4,
 "nbformat_minor": 5
}
